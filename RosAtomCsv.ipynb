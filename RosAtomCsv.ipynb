{
  "cells": [
    {
      "cell_type": "code",
      "execution_count": 1,
      "metadata": {
        "id": "QIwZTNDgT6wg"
      },
      "outputs": [],
      "source": [
        "import pandas as pd\n",
        "df = pd.read_csv('RosAtom_final.csv')"
      ]
    },
    {
      "cell_type": "code",
      "execution_count": 2,
      "metadata": {
        "colab": {
          "base_uri": "https://localhost:8080/"
        },
        "id": "Trcc8rlOWzdD",
        "outputId": "58e17815-9d25-491d-8bff-c81f280bd5c0"
      },
      "outputs": [
        {
          "name": "stdout",
          "output_type": "stream",
          "text": [
            "Requirement already satisfied: sentence_transformers in c:\\users\\daniil\\desktop\\nintendods-atomichack-2024\\.venv\\lib\\site-packages (3.0.1)\n",
            "Requirement already satisfied: nltk in c:\\users\\daniil\\desktop\\nintendods-atomichack-2024\\.venv\\lib\\site-packages (3.8.1)\n",
            "Requirement already satisfied: transformers<5.0.0,>=4.34.0 in c:\\users\\daniil\\desktop\\nintendods-atomichack-2024\\.venv\\lib\\site-packages (from sentence_transformers) (4.41.2)\n",
            "Requirement already satisfied: tqdm in c:\\users\\daniil\\desktop\\nintendods-atomichack-2024\\.venv\\lib\\site-packages (from sentence_transformers) (4.66.4)\n",
            "Requirement already satisfied: torch>=1.11.0 in c:\\users\\daniil\\desktop\\nintendods-atomichack-2024\\.venv\\lib\\site-packages (from sentence_transformers) (2.3.1)\n",
            "Requirement already satisfied: numpy in c:\\users\\daniil\\desktop\\nintendods-atomichack-2024\\.venv\\lib\\site-packages (from sentence_transformers) (1.26.4)\n",
            "Requirement already satisfied: scikit-learn in c:\\users\\daniil\\desktop\\nintendods-atomichack-2024\\.venv\\lib\\site-packages (from sentence_transformers) (1.5.0)\n",
            "Requirement already satisfied: scipy in c:\\users\\daniil\\desktop\\nintendods-atomichack-2024\\.venv\\lib\\site-packages (from sentence_transformers) (1.13.1)\n",
            "Requirement already satisfied: huggingface-hub>=0.15.1 in c:\\users\\daniil\\desktop\\nintendods-atomichack-2024\\.venv\\lib\\site-packages (from sentence_transformers) (0.23.4)\n",
            "Requirement already satisfied: Pillow in c:\\users\\daniil\\desktop\\nintendods-atomichack-2024\\.venv\\lib\\site-packages (from sentence_transformers) (10.3.0)\n",
            "Requirement already satisfied: click in c:\\users\\daniil\\desktop\\nintendods-atomichack-2024\\.venv\\lib\\site-packages (from nltk) (8.1.7)\n",
            "Requirement already satisfied: joblib in c:\\users\\daniil\\desktop\\nintendods-atomichack-2024\\.venv\\lib\\site-packages (from nltk) (1.4.2)\n",
            "Requirement already satisfied: regex>=2021.8.3 in c:\\users\\daniil\\desktop\\nintendods-atomichack-2024\\.venv\\lib\\site-packages (from nltk) (2024.5.15)\n",
            "Requirement already satisfied: filelock in c:\\users\\daniil\\desktop\\nintendods-atomichack-2024\\.venv\\lib\\site-packages (from huggingface-hub>=0.15.1->sentence_transformers) (3.15.1)\n",
            "Requirement already satisfied: fsspec>=2023.5.0 in c:\\users\\daniil\\desktop\\nintendods-atomichack-2024\\.venv\\lib\\site-packages (from huggingface-hub>=0.15.1->sentence_transformers) (2024.6.0)\n",
            "Requirement already satisfied: packaging>=20.9 in c:\\users\\daniil\\desktop\\nintendods-atomichack-2024\\.venv\\lib\\site-packages (from huggingface-hub>=0.15.1->sentence_transformers) (24.1)\n",
            "Requirement already satisfied: pyyaml>=5.1 in c:\\users\\daniil\\desktop\\nintendods-atomichack-2024\\.venv\\lib\\site-packages (from huggingface-hub>=0.15.1->sentence_transformers) (6.0.1)\n",
            "Requirement already satisfied: requests in c:\\users\\daniil\\desktop\\nintendods-atomichack-2024\\.venv\\lib\\site-packages (from huggingface-hub>=0.15.1->sentence_transformers) (2.32.3)\n",
            "Requirement already satisfied: typing-extensions>=3.7.4.3 in c:\\users\\daniil\\desktop\\nintendods-atomichack-2024\\.venv\\lib\\site-packages (from huggingface-hub>=0.15.1->sentence_transformers) (4.12.2)\n",
            "Requirement already satisfied: sympy in c:\\users\\daniil\\desktop\\nintendods-atomichack-2024\\.venv\\lib\\site-packages (from torch>=1.11.0->sentence_transformers) (1.12.1)\n",
            "Requirement already satisfied: networkx in c:\\users\\daniil\\desktop\\nintendods-atomichack-2024\\.venv\\lib\\site-packages (from torch>=1.11.0->sentence_transformers) (3.3)\n",
            "Requirement already satisfied: jinja2 in c:\\users\\daniil\\desktop\\nintendods-atomichack-2024\\.venv\\lib\\site-packages (from torch>=1.11.0->sentence_transformers) (3.1.4)\n",
            "Requirement already satisfied: mkl<=2021.4.0,>=2021.1.1 in c:\\users\\daniil\\desktop\\nintendods-atomichack-2024\\.venv\\lib\\site-packages (from torch>=1.11.0->sentence_transformers) (2021.4.0)\n",
            "Requirement already satisfied: colorama in c:\\users\\daniil\\desktop\\nintendods-atomichack-2024\\.venv\\lib\\site-packages (from tqdm->sentence_transformers) (0.4.6)\n",
            "Requirement already satisfied: tokenizers<0.20,>=0.19 in c:\\users\\daniil\\desktop\\nintendods-atomichack-2024\\.venv\\lib\\site-packages (from transformers<5.0.0,>=4.34.0->sentence_transformers) (0.19.1)\n",
            "Requirement already satisfied: safetensors>=0.4.1 in c:\\users\\daniil\\desktop\\nintendods-atomichack-2024\\.venv\\lib\\site-packages (from transformers<5.0.0,>=4.34.0->sentence_transformers) (0.4.3)\n",
            "Requirement already satisfied: threadpoolctl>=3.1.0 in c:\\users\\daniil\\desktop\\nintendods-atomichack-2024\\.venv\\lib\\site-packages (from scikit-learn->sentence_transformers) (3.5.0)\n",
            "Requirement already satisfied: intel-openmp==2021.* in c:\\users\\daniil\\desktop\\nintendods-atomichack-2024\\.venv\\lib\\site-packages (from mkl<=2021.4.0,>=2021.1.1->torch>=1.11.0->sentence_transformers) (2021.4.0)\n",
            "Requirement already satisfied: tbb==2021.* in c:\\users\\daniil\\desktop\\nintendods-atomichack-2024\\.venv\\lib\\site-packages (from mkl<=2021.4.0,>=2021.1.1->torch>=1.11.0->sentence_transformers) (2021.12.0)\n",
            "Requirement already satisfied: MarkupSafe>=2.0 in c:\\users\\daniil\\desktop\\nintendods-atomichack-2024\\.venv\\lib\\site-packages (from jinja2->torch>=1.11.0->sentence_transformers) (2.1.5)\n",
            "Requirement already satisfied: charset-normalizer<4,>=2 in c:\\users\\daniil\\desktop\\nintendods-atomichack-2024\\.venv\\lib\\site-packages (from requests->huggingface-hub>=0.15.1->sentence_transformers) (3.3.2)\n",
            "Requirement already satisfied: idna<4,>=2.5 in c:\\users\\daniil\\desktop\\nintendods-atomichack-2024\\.venv\\lib\\site-packages (from requests->huggingface-hub>=0.15.1->sentence_transformers) (3.7)\n",
            "Requirement already satisfied: urllib3<3,>=1.21.1 in c:\\users\\daniil\\desktop\\nintendods-atomichack-2024\\.venv\\lib\\site-packages (from requests->huggingface-hub>=0.15.1->sentence_transformers) (2.2.1)\n",
            "Requirement already satisfied: certifi>=2017.4.17 in c:\\users\\daniil\\desktop\\nintendods-atomichack-2024\\.venv\\lib\\site-packages (from requests->huggingface-hub>=0.15.1->sentence_transformers) (2024.6.2)\n",
            "Requirement already satisfied: mpmath<1.4.0,>=1.1.0 in c:\\users\\daniil\\desktop\\nintendods-atomichack-2024\\.venv\\lib\\site-packages (from sympy->torch>=1.11.0->sentence_transformers) (1.3.0)\n"
          ]
        }
      ],
      "source": [
        "# !pip install sentence_transformers nltk"
      ]
    },
    {
      "cell_type": "code",
      "execution_count": 3,
      "metadata": {
        "colab": {
          "base_uri": "https://localhost:8080/",
          "height": 489
        },
        "id": "aFFJ-D9ZTwzz",
        "outputId": "e2238935-6db9-4a83-fd63-c2793ebed951"
      },
      "outputs": [
        {
          "name": "stderr",
          "output_type": "stream",
          "text": [
            "c:\\Users\\Daniil\\Desktop\\NintendoDS-AtomicHack-2024\\.venv\\lib\\site-packages\\sentence_transformers\\cross_encoder\\CrossEncoder.py:11: TqdmWarning: IProgress not found. Please update jupyter and ipywidgets. See https://ipywidgets.readthedocs.io/en/stable/user_install.html\n",
            "  from tqdm.autonotebook import tqdm, trange\n",
            "[nltk_data] Downloading package punkt to\n",
            "[nltk_data]     C:\\Users\\Daniil\\AppData\\Roaming\\nltk_data...\n",
            "[nltk_data]   Package punkt is already up-to-date!\n",
            "[nltk_data] Downloading package stopwords to\n",
            "[nltk_data]     C:\\Users\\Daniil\\AppData\\Roaming\\nltk_data...\n",
            "[nltk_data]   Package stopwords is already up-to-date!\n",
            "[nltk_data] Downloading package wordnet to\n",
            "[nltk_data]     C:\\Users\\Daniil\\AppData\\Roaming\\nltk_data...\n",
            "[nltk_data]   Package wordnet is already up-to-date!\n",
            "c:\\Users\\Daniil\\Desktop\\NintendoDS-AtomicHack-2024\\.venv\\lib\\site-packages\\huggingface_hub\\file_download.py:1132: FutureWarning: `resume_download` is deprecated and will be removed in version 1.0.0. Downloads always resume when possible. If you want to force a new download, use `force_download=True`.\n",
            "  warnings.warn(\n"
          ]
        },
        {
          "name": "stdout",
          "output_type": "stream",
          "text": [
            "Наиболее похожее предложение: почему не стал зеленым блок формирование фин результата после нажатия сформировать\n"
          ]
        },
        {
          "data": {
            "text/plain": [
              "Series([], Name: Решение, dtype: object)"
            ]
          },
          "execution_count": 3,
          "metadata": {},
          "output_type": "execute_result"
        }
      ],
      "source": [
        "import nltk\n",
        "from nltk.corpus import stopwords\n",
        "from nltk.stem import WordNetLemmatizer\n",
        "from sklearn.metrics.pairwise import cosine_similarity\n",
        "from sentence_transformers import SentenceTransformer\n",
        "\n",
        "nltk.download('punkt')\n",
        "nltk.download('stopwords')\n",
        "nltk.download('wordnet')\n",
        "\n",
        "def preprocess_text(text):\n",
        "    \"\"\"\n",
        "    Предварительная обработка текста.\n",
        "    \"\"\"\n",
        "    text = text.lower()\n",
        "    text = ''.join(c for c in text if c.isalnum() or c.isspace())\n",
        "    tokens = nltk.word_tokenize(text)\n",
        "    stop_words = set(stopwords.words('english'))\n",
        "    tokens = [token for token in tokens if token not in stop_words]\n",
        "    lemmatizer = WordNetLemmatizer()\n",
        "    tokens = [lemmatizer.lemmatize(token) for token in tokens]\n",
        "    return ' '.join(tokens)\n",
        "\n",
        "def get_sentence_embeddings(sentences):\n",
        "    \"\"\"\n",
        "    Встраивание предложений с помощью SentenceTransformer.\n",
        "    \"\"\"\n",
        "    model = SentenceTransformer('paraphrase-distilroberta-base-v1')\n",
        "    embeddings = model.encode(sentences)\n",
        "    return embeddings\n",
        "\n",
        "def find_most_similar_sentence(target_sentence, dataset):\n",
        "    \"\"\"\n",
        "    Находит наиболее похожее предложение в датасете.\n",
        "    \"\"\"\n",
        "    target_sentence = preprocess_text(target_sentence)\n",
        "    dataset = [preprocess_text(sentence) for sentence in dataset]\n",
        "    target_embedding = get_sentence_embeddings([target_sentence])\n",
        "    dataset_embeddings = get_sentence_embeddings(dataset)\n",
        "    similarity_scores = cosine_similarity(target_embedding, dataset_embeddings)\n",
        "    most_similar_index = similarity_scores.argmax()\n",
        "    return dataset[most_similar_index]\n",
        "\n",
        "# Пример использования\n",
        "target_sentence = \"Почему приходят уведомления о закрытии договоров обеспечения\"\n",
        "\n",
        "most_similar_sentence = find_most_similar_sentence(target_sentence, df['Описание'])\n",
        "print(\"Наиболее похожее предложение:\", most_similar_sentence)\n",
        "df[df['Описание'] == most_similar_sentence]['Решение']"
      ]
    },
    {
      "cell_type": "code",
      "execution_count": 4,
      "metadata": {},
      "outputs": [
        {
          "name": "stderr",
          "output_type": "stream",
          "text": [
            "c:\\Users\\Daniil\\Desktop\\NintendoDS-AtomicHack-2024\\.venv\\lib\\site-packages\\huggingface_hub\\file_download.py:1132: FutureWarning: `resume_download` is deprecated and will be removed in version 1.0.0. Downloads always resume when possible. If you want to force a new download, use `force_download=True`.\n",
            "  warnings.warn(\n"
          ]
        }
      ],
      "source": [
        "# Пример использования\n",
        "target_sentence = \"Почему приходят уведомления о закрытии договоров обеспечения\"\n",
        "\n",
        "most_similar_sentence = find_most_similar_sentence(target_sentence, df['Описание'])\n",
        "print(\"Наиболее похожее предложение:\", most_similar_sentence)\n",
        "df[df['Описание'] == most_similar_sentence]['Решение']"
      ]
    }
  ],
  "metadata": {
    "colab": {
      "provenance": []
    },
    "kernelspec": {
      "display_name": "Python 3",
      "name": "python3"
    },
    "language_info": {
      "codemirror_mode": {
        "name": "ipython",
        "version": 3
      },
      "file_extension": ".py",
      "mimetype": "text/x-python",
      "name": "python",
      "nbconvert_exporter": "python",
      "pygments_lexer": "ipython3",
      "version": "3.10.12"
    }
  },
  "nbformat": 4,
  "nbformat_minor": 0
}
